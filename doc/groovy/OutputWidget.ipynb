{
 "cells": [
  {
   "cell_type": "markdown",
   "metadata": {},
   "source": [
    "# Output Widget\n",
    "\n",
    "Stdout and stderr are normally directed to appear in the output of the cell whose code produced them.  The output widget allows you to consolidate output in one place, both captured IO and rich objects.\n",
    "\n",
    "This can be used for logging and also for catching the output of background threads, which can be left running after the cell that starts them comletes."
   ]
  },
  {
   "cell_type": "code",
   "execution_count": null,
   "metadata": {},
   "outputs": [],
   "source": [
    "import com.twosigma.beakerx.widget.Output\n",
    "out = new Output()\n",
    "OutputManager.setOutput(out)\n",
    "out"
   ]
  },
  {
   "cell_type": "code",
   "execution_count": null,
   "metadata": {},
   "outputs": [],
   "source": [
    "t = new Thread({\n",
    "    println(\"thread start\")\n",
    "    for (int i = 0; i <20 ; i++){\n",
    "        Thread.sleep(2000)\n",
    "        println(\"thread \"+ i)\n",
    "        if (i % 5 == 4) System.err.println(\"oops!\")\n",
    "    }});\n",
    "println(\"ready set go\")\n",
    "t.start()"
   ]
  },
  {
   "cell_type": "markdown",
   "metadata": {},
   "source": [
    "Run the following cells after starting the threads with the previous cell."
   ]
  },
  {
   "cell_type": "code",
   "execution_count": null,
   "metadata": {},
   "outputs": [],
   "source": [
    "println(\"some other cell\")"
   ]
  },
  {
   "cell_type": "code",
   "execution_count": null,
   "metadata": {},
   "outputs": [],
   "source": [
    "OutputManager.clearOutput()"
   ]
  },
  {
   "cell_type": "code",
   "execution_count": null,
   "metadata": {},
   "outputs": [],
   "source": [
    "OutputManager.setOutput(null)"
   ]
  }
 ],
 "metadata": {
  "kernelspec": {
   "display_name": "Groovy",
   "language": "groovy",
   "name": "groovy"
  },
  "language_info": {
   "codemirror_mode": "groovy",
   "file_extension": ".groovy",
   "mimetype": "",
   "name": "Groovy",
   "nbconverter_exporter": "",
   "version": "2.4.3"
  }
 },
 "nbformat": 4,
 "nbformat_minor": 2
}
