{
 "cells": [
  {
   "cell_type": "code",
   "execution_count": null,
   "metadata": {},
   "outputs": [],
   "source": [
    "import com.twosigma.beakerx.widget.integers.IntSlider\n",
    "import com.twosigma.beakerx.widget.integers.IntProgress\n",
    "\n",
    "slider = new IntSlider()\n",
    "progress = new IntProgress()\n",
    "\n",
    "def mapList = [\n",
    "   [a:1, b:2, c:3],\n",
    "   [a:4, b:5, c:6],\n",
    "   [a:7, b:8, c:5]\n",
    "]\n",
    "table1 = new TableDisplay(mapList)\n",
    "OutputCell.HIDDEN"
   ]
  },
  {
   "cell_type": "code",
   "execution_count": null,
   "metadata": {},
   "outputs": [],
   "source": [
    "display(\"Hello1\")\n",
    "display(slider)\n",
    "display(Latex('$\\\\alpha^2 + \\\\eta$'))\n",
    "display(progress)\n",
    "display(YoutubeVideo(\"gSVvxOchT8Y\"))\n",
    "display(table1)\n",
    "display(\"Hello3\")\n",
    "\"done\""
   ]
  }
 ],
 "metadata": {
  "kernelspec": {
   "display_name": "Groovy",
   "language": "groovy",
   "name": "groovy"
  },
  "language_info": {
   "codemirror_mode": "groovy",
   "file_extension": ".groovy",
   "mimetype": "",
   "name": "Groovy",
   "nbconverter_exporter": "",
   "version": "2.4.3"
  }
 },
 "nbformat": 4,
 "nbformat_minor": 2
}
